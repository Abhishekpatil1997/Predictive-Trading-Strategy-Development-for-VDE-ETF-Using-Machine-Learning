{
  "nbformat": 4,
  "nbformat_minor": 0,
  "metadata": {
    "colab": {
      "provenance": []
    },
    "kernelspec": {
      "name": "python3",
      "display_name": "Python 3"
    },
    "language_info": {
      "name": "python"
    }
  },
  "cells": [
    {
      "cell_type": "markdown",
      "source": [
        "# Project Title: Predictive Trading Strategy Development for VDE ETF Using Machine Learning- Part-2\n",
        "\n",
        "# By Abhishek Patil\n",
        "\n",
        "\n",
        "\n",
        "# Here were taking the input which is our delta:"
      ],
      "metadata": {
        "id": "PSARXDjJt7Th"
      }
    },
    {
      "cell_type": "code",
      "source": [
        "delta = input(\"Hello! How much money would you like to make today(in percent %): \")\n",
        "delta = float(delta)\n",
        "delta = delta / 100\n",
        "#print(delta)"
      ],
      "metadata": {
        "colab": {
          "base_uri": "https://localhost:8080/"
        },
        "id": "eE2VHY_yt8Sr",
        "outputId": "2c2e1fea-b587-4142-eb1d-a289340d2624"
      },
      "execution_count": 1,
      "outputs": [
        {
          "name": "stdout",
          "output_type": "stream",
          "text": [
            "Hello! How much money would you like to make today(in percent %): 0.5\n"
          ]
        }
      ]
    },
    {
      "cell_type": "markdown",
      "source": [
        "# Loading all the necessary Libraries:"
      ],
      "metadata": {
        "id": "U1e554TQt8rX"
      }
    },
    {
      "cell_type": "code",
      "source": [
        "import yfinance as yf\n",
        "import pandas as pd\n",
        "import numpy as np\n",
        "from sklearn.model_selection import train_test_split\n",
        "from sklearn.preprocessing import StandardScaler\n",
        "from sklearn.linear_model import LinearRegression\n",
        "from sklearn.tree import DecisionTreeRegressor\n",
        "from sklearn.ensemble import RandomForestRegressor\n",
        "from sklearn.svm import SVR\n",
        "from sklearn.metrics import mean_absolute_error, mean_squared_error, r2_score\n",
        "import matplotlib.pyplot as plt\n",
        "from sklearn.neighbors import KNeighborsRegressor\n",
        "from sklearn.linear_model import LogisticRegression\n",
        "import seaborn as sns\n",
        "from sklearn.ensemble import RandomForestClassifier\n",
        "from datetime import date, timedelta\n",
        "import pandas as pd"
      ],
      "metadata": {
        "id": "ryUGYz4Zt8-C",
        "colab": {
          "base_uri": "https://localhost:8080/"
        },
        "outputId": "c2819801-ec43-41f2-8d73-95bd6dda2db6"
      },
      "execution_count": 2,
      "outputs": [
        {
          "output_type": "stream",
          "name": "stderr",
          "text": [
            "/usr/local/lib/python3.10/dist-packages/yfinance/base.py:48: FutureWarning: The default dtype for empty Series will be 'object' instead of 'float64' in a future version. Specify a dtype explicitly to silence this warning.\n",
            "  _empty_series = pd.Series()\n"
          ]
        }
      ]
    },
    {
      "cell_type": "markdown",
      "source": [
        "# Running all the Machine learning Models:"
      ],
      "metadata": {
        "id": "3CzyOjmAuZgb"
      }
    },
    {
      "cell_type": "code",
      "source": [
        "# Returns the current local date\n",
        "today = pd.to_datetime(date.today())\n",
        "\n",
        "\n",
        "# Taking the weekday of the week\n",
        "weekday = today.weekday()\n",
        "\n",
        "\n",
        "#Filtering for yesterday for a 5 day week\n",
        "if weekday in [1,2,3,4,5]:\n",
        "  yesterday = today - timedelta(days=1)\n",
        "elif weekday == 0:\n",
        "  yesterday = today - timedelta(days=3)\n",
        "elif weekday == 6:\n",
        "  yesterday = today - timedelta(days=2)\n",
        "\n",
        "\n",
        "\n",
        "# Download the Data\n",
        "ticker = \"VDE\"\n",
        "vde = yf.download(ticker, start='2000-01-01', end=today)\n",
        "\n",
        "vde['Daily_Return'] = vde['Close'].pct_change()\n",
        "vde.dropna(inplace=True)\n",
        "vde[\"Move\"] = vde[\"High\"] - vde[\"Low\"]\n",
        "vde[\"Move_per\"] = vde[\"Move\"] / vde[\"Low\"]\n",
        "vde['Target'] = np.where(vde['Daily_Return'] > 0, 1, 0)\n",
        "\n",
        "\n",
        "\n",
        "\n",
        "\n",
        "\n",
        "\n",
        "#Random Forest Classifier\n",
        "# Define features and target\n",
        "features = [\"Open\", \"Close\", \"High\", \"Low\",\"Volume\",\"Daily_Return\", \"Move\", \"Move_per\"]\n",
        "X = vde[features]\n",
        "y = vde['Target']\n",
        "\n",
        "#List of training end dates\n",
        "train_end_date = yesterday\n",
        "# train_end_date = ts[0]\n",
        "# print(train_end_date)\n",
        "\n",
        "# Train-test split\n",
        "X_train = X[X.index < train_end_date]\n",
        "y_train = y[y.index < train_end_date]\n",
        "X_test = X[X.index >= train_end_date]\n",
        "y_test = y[y.index >= train_end_date]\n",
        "\n",
        "# Standardize features\n",
        "scaler = StandardScaler()\n",
        "X_train_scaled = scaler.fit_transform(X_train)\n",
        "X_test_scaled = scaler.transform(X_test)\n",
        "\n",
        "# Train a Random Forest Classifier\n",
        "model = RandomForestClassifier(n_estimators=100, random_state=42)\n",
        "model.fit(X_train_scaled, y_train)\n",
        "\n",
        "# Make predictions on the test set\n",
        "predictions = model.predict(X_test_scaled)\n",
        "print(predictions)\n",
        "\n",
        "#Giving out the Signal\n",
        "if predictions == 1:\n",
        "  print(f\"Today {today}:\\n\\n Long position.\\n\\n\")\n",
        "elif predictions == 0:\n",
        "  print(f\"Today {today}:\\n\\n Short or Neutral position.\\n\\n\")\n",
        "\n",
        "\n",
        "\n",
        "#Multiple Regression\n",
        "features_open = [\"Close\", \"High\", \"Low\",\"Volume\",\"Daily_Return\", \"Move\", \"Move_per\"]\n",
        "features_high =[\"Close\", \"Open\", \"Low\",\"Volume\",\"Daily_Return\", \"Move\", \"Move_per\"]\n",
        "features_low = [\"Close\", \"Open\", \"High\",\"Volume\",\"Daily_Return\", \"Move\", \"Move_per\"]\n",
        "features_close = [\"Open\", \"High\", \"Low\",\"Volume\",\"Daily_Return\", \"Move\", \"Move_per\"]\n",
        "features_Daily_Return =[\"Close\", \"Open\", \"High\",\"Volume\",\"Low\", \"Move\", \"Move_per\"]\n",
        "features_Move_per = [\"Close\", \"Open\", \"High\",\"Volume\",\"Low\", \"Move\", \"Daily_Return\"]\n",
        "\n",
        "features = [features_open, features_high, features_low, features_close, features_Daily_Return, features_Move_per]\n",
        "targets = [\"Open\", \"High\", \"Low\", \"Close\", \"Daily_Return\", \"Move_per\"]\n",
        "\n",
        "# Create an empty dictionary to store todays prediction\n",
        "todays_predictions = {}\n",
        "\n",
        "#Create an for loop to loop over features and target to predict the values of the next day\n",
        "for i,x in zip(features,targets):\n",
        "  X = vde[i]\n",
        "  y = vde[x]\n",
        "\n",
        "  #List of training end dates\n",
        "  train_end_date = yesterday\n",
        "  # train_end_date = ts[0]\n",
        "  # print(train_end_date)\n",
        "\n",
        "  # Train-test split\n",
        "  X_train = X[X.index < train_end_date]\n",
        "  y_train = y[y.index < train_end_date]\n",
        "  X_test = X[X.index >= train_end_date]\n",
        "  y_test = y[y.index >= train_end_date]\n",
        "\n",
        "  # Standardize features\n",
        "  scaler = StandardScaler()\n",
        "  X_train_scaled = scaler.fit_transform(X_train)\n",
        "  X_test_scaled = scaler.transform(X_test)\n",
        "\n",
        "\n",
        "  # Multiple Regression\n",
        "  lr_model = LinearRegression()\n",
        "  lr_model.fit(X_train_scaled, y_train)\n",
        "  lr_predictions = lr_model.predict(X_test_scaled)\n",
        "\n",
        "  # Store predictions in the dictionary\n",
        "  todays_predictions[x] = lr_predictions\n",
        "\n",
        "\n",
        "# Convert the dictionary to a DataFrame\n",
        "predictions_df = pd.DataFrame(todays_predictions)\n",
        "\n",
        "\n",
        "df = vde[(vde[\"Daily_Return\"] > 0) & (vde[\"Move_per\"] >= delta)]\n",
        "count_whole = len(vde)\n",
        "count = len(df)\n",
        "\n",
        "prob = round((count/count_whole)*100,2)\n",
        "print(f\"Prediction of Multiple Linear Regression Model:\\n\\nThe probability of making {delta} on {today} is {prob}% with these predictions:\\n\\n {predictions_df}\\n\\n\")\n",
        "\n",
        "\n",
        "\n",
        "\n",
        "\n",
        "#Random Forest\n",
        "features_open = [\"Close\", \"High\", \"Low\",\"Volume\",\"Daily_Return\", \"Move\", \"Move_per\"]\n",
        "features_high =[\"Close\", \"Open\", \"Low\",\"Volume\",\"Daily_Return\", \"Move\", \"Move_per\"]\n",
        "features_low = [\"Close\", \"Open\", \"High\",\"Volume\",\"Daily_Return\", \"Move\", \"Move_per\"]\n",
        "features_close = [\"Open\", \"High\", \"Low\",\"Volume\",\"Daily_Return\", \"Move\", \"Move_per\"]\n",
        "features_Daily_Return =[\"Close\", \"Open\", \"High\",\"Volume\",\"Low\", \"Move\", \"Move_per\"]\n",
        "features_Move_per = [\"Close\", \"Open\", \"High\",\"Volume\",\"Low\", \"Move\", \"Daily_Return\"]\n",
        "\n",
        "features = [features_open, features_high, features_low, features_close, features_Daily_Return, features_Move_per]\n",
        "targets = [\"Open\", \"High\", \"Low\", \"Close\", \"Daily_Return\", \"Move_per\"]\n",
        "\n",
        "# Create an empty dictionary to store todays prediction\n",
        "todays_predictions = {}\n",
        "\n",
        "#Create an for loop to loop over features and target to predict the values of the next day\n",
        "for i,x in zip(features,targets):\n",
        "  X = vde[i]\n",
        "  y = vde[x]\n",
        "\n",
        "  #List of training end dates\n",
        "  train_end_date = yesterday\n",
        "  # train_end_date = ts[0]\n",
        "  # print(train_end_date)\n",
        "\n",
        "  # Train-test split\n",
        "  X_train = X[X.index < train_end_date]\n",
        "  y_train = y[y.index < train_end_date]\n",
        "  X_test = X[X.index >= train_end_date]\n",
        "  y_test = y[y.index >= train_end_date]\n",
        "\n",
        "  # Standardize features\n",
        "  scaler = StandardScaler()\n",
        "  X_train_scaled = scaler.fit_transform(X_train)\n",
        "  X_test_scaled = scaler.transform(X_test)\n",
        "\n",
        "\n",
        "  # Random Forest Regression\n",
        "  rf_model = RandomForestRegressor()\n",
        "  rf_model.fit(X_train_scaled, y_train)\n",
        "  rf_predictions = rf_model.predict(X_test_scaled)\n",
        "\n",
        "\n",
        "  # Store predictions in the dictionary\n",
        "  todays_predictions[x] = rf_predictions\n",
        "\n",
        "\n",
        "# Convert the dictionary to a DataFrame\n",
        "predictions_df = pd.DataFrame(todays_predictions)\n",
        "\n",
        "\n",
        "df = vde[(vde[\"Daily_Return\"] > 0) & (vde[\"Move_per\"] >= delta)]\n",
        "count_whole = len(vde)\n",
        "count = len(df)\n",
        "\n",
        "prob = round((count/count_whole)*100,2)\n",
        "print(f\"Prediction of Random Forest Model:\\n\\nThe probability of making {delta} on {today} is {prob}% with these predictions:\\n\\n {predictions_df}\\n\\n\")"
      ],
      "metadata": {
        "colab": {
          "base_uri": "https://localhost:8080/"
        },
        "id": "NUkDtb11ug1L",
        "outputId": "8bc41ff5-9b61-439e-f65c-079aedfdb8bb"
      },
      "execution_count": 3,
      "outputs": [
        {
          "output_type": "stream",
          "name": "stderr",
          "text": [
            "\r[*********************100%%**********************]  1 of 1 completed\n"
          ]
        },
        {
          "output_type": "stream",
          "name": "stdout",
          "text": [
            "[0]\n",
            "Today 2024-01-30 00:00:00:\n",
            "\n",
            " Short or Neutral position.\n",
            "\n",
            "\n",
            "Prediction of Multiple Linear Regression Model:\n",
            "\n",
            "The probability of making 0.005 on 2024-01-30 00:00:00 is 51.26% with these predictions:\n",
            "\n",
            "         Open        High         Low       Close  Daily_Return  Move_per\n",
            "0  116.82284  117.610001  116.279999  116.858046      0.005043  0.009162\n",
            "\n",
            "\n",
            "Prediction of Random Forest Model:\n",
            "\n",
            "The probability of making 0.005 on 2024-01-30 00:00:00 is 51.26% with these predictions:\n",
            "\n",
            "        Open        High       Low       Close  Daily_Return  Move_per\n",
            "0  117.0315  117.955501  116.7065  116.992199      -0.00007  0.011338\n",
            "\n",
            "\n"
          ]
        }
      ]
    }
  ]
}